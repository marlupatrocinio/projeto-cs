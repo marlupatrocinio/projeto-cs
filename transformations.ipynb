{
 "cells": [
  {
   "cell_type": "code",
   "execution_count": null,
   "id": "3a624365",
   "metadata": {},
   "outputs": [],
   "source": [
    "import requests\n",
    "import pandas as pd\n",
    "from datetime import timedelta, datetime\n",
    "import time\n",
    "pd.set_option('display.max_colwidth', None)"
   ]
  },
  {
   "cell_type": "code",
   "execution_count": null,
   "id": "e879b73a",
   "metadata": {},
   "outputs": [],
   "source": [
    "df = pd.read_csv('U1106683827_20230103_20240602_buy.csv')\n",
    "\n",
    "df.head(5)\n",
    "print(df.columns)\n",
    "\n"
   ]
  },
  {
   "cell_type": "code",
   "execution_count": null,
   "id": "9833effe",
   "metadata": {},
   "outputs": [],
   "source": [
    "df.head(6)"
   ]
  },
  {
   "cell_type": "code",
   "execution_count": null,
   "id": "5c612fec",
   "metadata": {},
   "outputs": [],
   "source": [
    "df['Time(GMT+8)'] = pd.to_datetime(df['Time(GMT+8)'])\n",
    "df = df.sort_values(by='Time(GMT+8)', ascending=True)\n",
    "df.head()"
   ]
  },
  {
   "cell_type": "code",
   "execution_count": null,
   "id": "ca442af4",
   "metadata": {},
   "outputs": [],
   "source": [
    "df = df.reset_index(drop = True)\n",
    "df['id_transaction'] = df.index + 1\n",
    "df.head(5)"
   ]
  },
  {
   "cell_type": "code",
   "execution_count": null,
   "id": "1b4c47a1",
   "metadata": {},
   "outputs": [],
   "source": [
    "print(df['Items'].head(10))\n"
   ]
  },
  {
   "cell_type": "code",
   "execution_count": null,
   "id": "aeb7367f",
   "metadata": {},
   "outputs": [],
   "source": [
    "wear = ['Battle-Scarred', 'Factory New', 'Minimal Wear', 'Field-Tested', 'Well-Worn']\n",
    "regex_pattern = f\"({'|'.join(wear)})\"\n",
    "df['wear'] = df['Items'].str.extract(regex_pattern, expand=False)\n",
    "df.head(5)\n",
    "\n"
   ]
  },
  {
   "cell_type": "code",
   "execution_count": null,
   "id": "8476b3cf",
   "metadata": {},
   "outputs": [],
   "source": [
    "df = df.rename(columns={'Time(GMT+8)' : 'Time'})\n",
    "df.head(5)"
   ]
  },
  {
   "cell_type": "code",
   "execution_count": null,
   "id": "b4c8432e",
   "metadata": {},
   "outputs": [],
   "source": [
    "df['store_link'] = df['Items'].str.extract(r'HYPERLINK\\(\"([^\"]+)\"')\n",
    "df['item'] = df['Items'].str.extract(r',\\s*\"([^\"]+)\"\\)')\n",
    "df = df.drop(columns=['Items'])\n",
    "df.head(5)"
   ]
  },
  {
   "cell_type": "code",
   "execution_count": null,
   "id": "1d5eee1c",
   "metadata": {},
   "outputs": [],
   "source": [
    "df['Price_CNY'] = df['Price'].str.replace('¥', '', regex = False).astype(float)\n",
    "df = df.drop('Price', axis=1)\n",
    "df.head(5)"
   ]
  },
  {
   "cell_type": "code",
   "execution_count": null,
   "id": "a0f0237c",
   "metadata": {},
   "outputs": [],
   "source": [
    "df['Timestamp_GMT8'] = pd.to_datetime(df['Time'])\n",
    "df['Transaction_Date'] = df['Time'].dt.date\n",
    "df = df.drop('Time', axis= 1)\n",
    "df.head(5)"
   ]
  },
  {
   "cell_type": "code",
   "execution_count": null,
   "id": "bda49552",
   "metadata": {},
   "outputs": [],
   "source": [
    "frankfurter_cache = {}\n",
    "\n",
    "def buscar_cotacao_frankfurter(data_cotacao):\n",
    "\n",
    "    data_str = data_cotacao.strftime('%Y-%m-%d')\n",
    "\n",
    "    if data_str in frankfurter_cache:\n",
    "        return frankfurter_cache[data_str]\n",
    "\n",
    "    url = f\"https://api.frankfurter.app/{data_str}?from=CNY&to=USD\"\n",
    "\n",
    "    try:\n",
    "        response = requests.get(url, timeout=10)\n",
    "        response.raise_for_status()\n",
    "        dados = response.json()\n",
    "\n",
    "        if 'rates' in dados and 'USD' in dados['rates']:\n",
    "            cotacao = dados['rates']['USD']\n",
    "            frankfurter_cache[data_str] = cotacao\n",
    "            return cotacao\n",
    "        else:\n",
    "            print(f\"Não encontrou cotação USD para {data_str} na resposta: {dados}\")\n",
    "            frankfurter_cache[data_str] = None\n",
    "            return None\n",
    "\n",
    "    except requests.exceptions.RequestException as e:\n",
    "        print(f\"Erro de API/Rede ao buscar Frankfurter para {data_str}: {e}\")\n",
    "        frankfurter_cache[data_str] = None\n",
    "        return None\n",
    "\n",
    "print(\"Função 'buscar_cotacao_frankfurter' definida.\")"
   ]
  },
  {
   "cell_type": "code",
   "execution_count": null,
   "id": "08ca7b56",
   "metadata": {},
   "outputs": [],
   "source": [
    "if 'Transaction_Date' not in df.columns:\n",
    "    print(\"ERRO\")\n",
    "else:\n",
    "    datas_unicas = df['Transaction_Date'].unique()\n",
    "\n",
    "    cotacoes_map_usd = {data: buscar_cotacao_frankfurter(data) for data in datas_unicas if data}\n",
    "\n",
    "    df['Taxa_Cambio_USD'] = df['Transaction_Date'].map(cotacoes_map_usd)\n",
    "\n",
    "    df['Price_USD'] = df['Price_CNY'] * df['Taxa_Cambio_USD']\n",
    "\n",
    "df = df.drop(columns=['BRL','Timestamp_GMT8', 'Taxa_Cambio_USD'])\n",
    "\n",
    "df.head(5)"
   ]
  }
 ],
 "metadata": {
  "kernelspec": {
   "display_name": "Python 3",
   "language": "python",
   "name": "python3"
  },
  "language_info": {
   "codemirror_mode": {
    "name": "ipython",
    "version": 3
   },
   "file_extension": ".py",
   "mimetype": "text/x-python",
   "name": "python",
   "nbconvert_exporter": "python",
   "pygments_lexer": "ipython3",
   "version": "3.12.5"
  }
 },
 "nbformat": 4,
 "nbformat_minor": 5
}
